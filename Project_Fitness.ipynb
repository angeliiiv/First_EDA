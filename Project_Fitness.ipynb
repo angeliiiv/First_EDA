{
  "nbformat": 4,
  "nbformat_minor": 0,
  "metadata": {
    "colab": {
      "name": "Project Fitness",
      "provenance": []
    },
    "kernelspec": {
      "name": "python3",
      "display_name": "Python 3"
    },
    "language_info": {
      "name": "python"
    }
  },
  "cells": [
    {
      "cell_type": "markdown",
      "metadata": {
        "id": "H4y3F2AB_Tj0"
      },
      "source": [
        "This thing working?"
      ]
    },
    {
      "cell_type": "code",
      "metadata": {
        "id": "YQsrxFRViunc",
        "colab": {
          "base_uri": "https://localhost:8080/"
        },
        "outputId": "f12d2c73-ebfd-4f5e-82a9-cf6b9c05692e"
      },
      "source": [
        "print(\"Hello World!\")"
      ],
      "execution_count": null,
      "outputs": [
        {
          "output_type": "stream",
          "name": "stdout",
          "text": [
            "Hello World!\n"
          ]
        }
      ]
    },
    {
      "cell_type": "code",
      "metadata": {
        "colab": {
          "base_uri": "https://localhost:8080/"
        },
        "id": "ZHbliUV3-V6r",
        "outputId": "884f30ad-362b-443c-a5cc-4b5481373806"
      },
      "source": [
        "miles_per_day = 700/365\n",
        "miles_over_6_years = miles_per_day * 365 * 6\n",
        "print(miles_over_6_years)"
      ],
      "execution_count": null,
      "outputs": [
        {
          "output_type": "stream",
          "name": "stdout",
          "text": [
            "4200.0\n"
          ]
        }
      ]
    },
    {
      "cell_type": "code",
      "metadata": {
        "colab": {
          "base_uri": "https://localhost:8080/"
        },
        "id": "N09MjnHS-WHF",
        "outputId": "ec6bb5b0-a6aa-4f1e-dc30-b7e0caf3d911"
      },
      "source": [
        "# Defining our miles_per_day function. \n",
        "# Takes annual miles goal and runs per week to see how many miles should be ran\n",
        "# assumes 52 weeks in a year\n",
        "def calc_miles_per_day(annual_miles,days_per_week):\n",
        "  return round(annual_miles / (days_per_week * 52),2)\n",
        "  print(calc_miles_per_day)\n",
        "\n",
        "calc_miles_per_day(1200, 5)"
      ],
      "execution_count": null,
      "outputs": [
        {
          "output_type": "execute_result",
          "data": {
            "text/plain": [
              "4.62"
            ]
          },
          "metadata": {},
          "execution_count": 10
        }
      ]
    },
    {
      "cell_type": "code",
      "metadata": {
        "id": "W9tZc-Bs-WWj"
      },
      "source": [
        "day_list = [4,5,3,8,12]"
      ],
      "execution_count": null,
      "outputs": []
    },
    {
      "cell_type": "code",
      "metadata": {
        "id": "suzECamO-Wai",
        "colab": {
          "base_uri": "https://localhost:8080/"
        },
        "outputId": "25ee076c-094e-42d5-91c5-3797a119dc49"
      },
      "source": [
        "for i in day_list:\n",
        "  print(i)"
      ],
      "execution_count": null,
      "outputs": [
        {
          "output_type": "stream",
          "name": "stdout",
          "text": [
            "4\n",
            "5\n",
            "3\n",
            "8\n",
            "12\n"
          ]
        }
      ]
    },
    {
      "cell_type": "code",
      "metadata": {
        "id": "TnWGI3t0-WdY",
        "colab": {
          "base_uri": "https://localhost:8080/"
        },
        "outputId": "82194682-abf7-47bd-e951-025c901872a2"
      },
      "source": [
        "mile_record = 10\n",
        "day_list[1:3]\n",
        "i = 0\n",
        "while day_list[i] < mile_record:\n",
        "  print(day_list[i])\n",
        "  i = i+1\n",
        "  \n",
        "  "
      ],
      "execution_count": null,
      "outputs": [
        {
          "output_type": "stream",
          "name": "stdout",
          "text": [
            "4\n",
            "5\n",
            "3\n",
            "8\n"
          ]
        }
      ]
    },
    {
      "cell_type": "code",
      "metadata": {
        "colab": {
          "base_uri": "https://localhost:8080/",
          "height": 357
        },
        "id": "SUA8uKi487Xu",
        "outputId": "aa7c334c-fe92-4384-9efb-ebc7237f5cf3"
      },
      "source": [
        "# importing pandas and our health dataset\n",
        "import pandas as pd\n",
        "df = pd.read_csv(\"Health_Data_5 (1).csv\") \n",
        "df.head(10)"
      ],
      "execution_count": null,
      "outputs": [
        {
          "output_type": "execute_result",
          "data": {
            "text/html": [
              "<div>\n",
              "<style scoped>\n",
              "    .dataframe tbody tr th:only-of-type {\n",
              "        vertical-align: middle;\n",
              "    }\n",
              "\n",
              "    .dataframe tbody tr th {\n",
              "        vertical-align: top;\n",
              "    }\n",
              "\n",
              "    .dataframe thead th {\n",
              "        text-align: right;\n",
              "    }\n",
              "</style>\n",
              "<table border=\"1\" class=\"dataframe\">\n",
              "  <thead>\n",
              "    <tr style=\"text-align: right;\">\n",
              "      <th></th>\n",
              "      <th>Start</th>\n",
              "      <th>Finish</th>\n",
              "      <th>Active Calories (kcal)</th>\n",
              "      <th>Body Fat Percentage (%)</th>\n",
              "      <th>Distance (mi)</th>\n",
              "      <th>Flights Climbed (count)</th>\n",
              "      <th>Steps (count)</th>\n",
              "    </tr>\n",
              "  </thead>\n",
              "  <tbody>\n",
              "    <tr>\n",
              "      <th>0</th>\n",
              "      <td>9/28/2018 0:00</td>\n",
              "      <td>9/29/2018 0:00</td>\n",
              "      <td>115.273</td>\n",
              "      <td>0.0</td>\n",
              "      <td>1.550060</td>\n",
              "      <td>3.000000</td>\n",
              "      <td>3229.292576</td>\n",
              "    </tr>\n",
              "    <tr>\n",
              "      <th>1</th>\n",
              "      <td>9/29/2018 0:00</td>\n",
              "      <td>9/30/2018 0:00</td>\n",
              "      <td>897.301</td>\n",
              "      <td>0.0</td>\n",
              "      <td>7.187403</td>\n",
              "      <td>25.567545</td>\n",
              "      <td>14210.188870</td>\n",
              "    </tr>\n",
              "    <tr>\n",
              "      <th>2</th>\n",
              "      <td>9/30/2018 0:00</td>\n",
              "      <td>10/1/2018 0:00</td>\n",
              "      <td>809.687</td>\n",
              "      <td>0.0</td>\n",
              "      <td>9.241554</td>\n",
              "      <td>18.377132</td>\n",
              "      <td>19156.967010</td>\n",
              "    </tr>\n",
              "    <tr>\n",
              "      <th>3</th>\n",
              "      <td>10/1/2018 0:00</td>\n",
              "      <td>10/2/2018 0:00</td>\n",
              "      <td>479.600</td>\n",
              "      <td>0.0</td>\n",
              "      <td>7.031315</td>\n",
              "      <td>17.055323</td>\n",
              "      <td>13640.566870</td>\n",
              "    </tr>\n",
              "    <tr>\n",
              "      <th>4</th>\n",
              "      <td>10/2/2018 0:00</td>\n",
              "      <td>10/3/2018 0:00</td>\n",
              "      <td>898.693</td>\n",
              "      <td>0.0</td>\n",
              "      <td>5.243691</td>\n",
              "      <td>11.000000</td>\n",
              "      <td>10915.410300</td>\n",
              "    </tr>\n",
              "    <tr>\n",
              "      <th>5</th>\n",
              "      <td>10/3/2018 0:00</td>\n",
              "      <td>10/4/2018 0:00</td>\n",
              "      <td>1083.625</td>\n",
              "      <td>0.0</td>\n",
              "      <td>8.664579</td>\n",
              "      <td>12.000000</td>\n",
              "      <td>16549.225830</td>\n",
              "    </tr>\n",
              "    <tr>\n",
              "      <th>6</th>\n",
              "      <td>10/4/2018 0:00</td>\n",
              "      <td>10/5/2018 0:00</td>\n",
              "      <td>1029.919</td>\n",
              "      <td>0.0</td>\n",
              "      <td>6.598795</td>\n",
              "      <td>15.000000</td>\n",
              "      <td>13126.144560</td>\n",
              "    </tr>\n",
              "    <tr>\n",
              "      <th>7</th>\n",
              "      <td>10/5/2018 0:00</td>\n",
              "      <td>10/6/2018 0:00</td>\n",
              "      <td>712.358</td>\n",
              "      <td>0.0</td>\n",
              "      <td>6.072413</td>\n",
              "      <td>5.000000</td>\n",
              "      <td>12524.505320</td>\n",
              "    </tr>\n",
              "    <tr>\n",
              "      <th>8</th>\n",
              "      <td>10/6/2018 0:00</td>\n",
              "      <td>10/7/2018 0:00</td>\n",
              "      <td>908.572</td>\n",
              "      <td>0.0</td>\n",
              "      <td>8.698327</td>\n",
              "      <td>40.580389</td>\n",
              "      <td>19622.238840</td>\n",
              "    </tr>\n",
              "    <tr>\n",
              "      <th>9</th>\n",
              "      <td>10/7/2018 0:00</td>\n",
              "      <td>10/8/2018 0:00</td>\n",
              "      <td>487.599</td>\n",
              "      <td>0.0</td>\n",
              "      <td>4.976356</td>\n",
              "      <td>54.425742</td>\n",
              "      <td>11295.966730</td>\n",
              "    </tr>\n",
              "  </tbody>\n",
              "</table>\n",
              "</div>"
            ],
            "text/plain": [
              "            Start          Finish  ...  Flights Climbed (count)  Steps (count)\n",
              "0  9/28/2018 0:00  9/29/2018 0:00  ...                 3.000000    3229.292576\n",
              "1  9/29/2018 0:00  9/30/2018 0:00  ...                25.567545   14210.188870\n",
              "2  9/30/2018 0:00  10/1/2018 0:00  ...                18.377132   19156.967010\n",
              "3  10/1/2018 0:00  10/2/2018 0:00  ...                17.055323   13640.566870\n",
              "4  10/2/2018 0:00  10/3/2018 0:00  ...                11.000000   10915.410300\n",
              "5  10/3/2018 0:00  10/4/2018 0:00  ...                12.000000   16549.225830\n",
              "6  10/4/2018 0:00  10/5/2018 0:00  ...                15.000000   13126.144560\n",
              "7  10/5/2018 0:00  10/6/2018 0:00  ...                 5.000000   12524.505320\n",
              "8  10/6/2018 0:00  10/7/2018 0:00  ...                40.580389   19622.238840\n",
              "9  10/7/2018 0:00  10/8/2018 0:00  ...                54.425742   11295.966730\n",
              "\n",
              "[10 rows x 7 columns]"
            ]
          },
          "metadata": {},
          "execution_count": 33
        }
      ]
    },
    {
      "cell_type": "code",
      "metadata": {
        "colab": {
          "base_uri": "https://localhost:8080/"
        },
        "id": "KhYpAJcKWDCG",
        "outputId": "74f73b89-fced-45dc-baea-18ad541c5a6e"
      },
      "source": [
        "# Checking the column data types and seeing if anything should be chaged\n",
        "df.dtypes"
      ],
      "execution_count": null,
      "outputs": [
        {
          "output_type": "execute_result",
          "data": {
            "text/plain": [
              "Start                       object\n",
              "Finish                      object\n",
              "Active Calories (kcal)     float64\n",
              "Body Fat Percentage (%)    float64\n",
              "Distance (mi)              float64\n",
              "Flights Climbed (count)    float64\n",
              "Steps (count)              float64\n",
              "dtype: object"
            ]
          },
          "metadata": {},
          "execution_count": 34
        }
      ]
    },
    {
      "cell_type": "code",
      "metadata": {
        "colab": {
          "base_uri": "https://localhost:8080/",
          "height": 295
        },
        "id": "7LQw-itMWSfO",
        "outputId": "650099fe-459c-477c-b7f9-ace56022d266"
      },
      "source": [
        "# Quick descriptive analysis of dataset\n",
        "df.describe()"
      ],
      "execution_count": null,
      "outputs": [
        {
          "output_type": "execute_result",
          "data": {
            "text/html": [
              "<div>\n",
              "<style scoped>\n",
              "    .dataframe tbody tr th:only-of-type {\n",
              "        vertical-align: middle;\n",
              "    }\n",
              "\n",
              "    .dataframe tbody tr th {\n",
              "        vertical-align: top;\n",
              "    }\n",
              "\n",
              "    .dataframe thead th {\n",
              "        text-align: right;\n",
              "    }\n",
              "</style>\n",
              "<table border=\"1\" class=\"dataframe\">\n",
              "  <thead>\n",
              "    <tr style=\"text-align: right;\">\n",
              "      <th></th>\n",
              "      <th>Active Calories (kcal)</th>\n",
              "      <th>Body Fat Percentage (%)</th>\n",
              "      <th>Distance (mi)</th>\n",
              "      <th>Flights Climbed (count)</th>\n",
              "      <th>Steps (count)</th>\n",
              "    </tr>\n",
              "  </thead>\n",
              "  <tbody>\n",
              "    <tr>\n",
              "      <th>count</th>\n",
              "      <td>1044.000000</td>\n",
              "      <td>1044.000000</td>\n",
              "      <td>1044.000000</td>\n",
              "      <td>1044.000000</td>\n",
              "      <td>1044.000000</td>\n",
              "    </tr>\n",
              "    <tr>\n",
              "      <th>mean</th>\n",
              "      <td>625.793585</td>\n",
              "      <td>0.051212</td>\n",
              "      <td>4.440123</td>\n",
              "      <td>18.511201</td>\n",
              "      <td>9419.886702</td>\n",
              "    </tr>\n",
              "    <tr>\n",
              "      <th>std</th>\n",
              "      <td>448.262053</td>\n",
              "      <td>0.090535</td>\n",
              "      <td>2.673664</td>\n",
              "      <td>39.377724</td>\n",
              "      <td>4893.374264</td>\n",
              "    </tr>\n",
              "    <tr>\n",
              "      <th>min</th>\n",
              "      <td>0.000000</td>\n",
              "      <td>0.000000</td>\n",
              "      <td>0.365356</td>\n",
              "      <td>0.000000</td>\n",
              "      <td>821.570604</td>\n",
              "    </tr>\n",
              "    <tr>\n",
              "      <th>25%</th>\n",
              "      <td>383.523286</td>\n",
              "      <td>0.000000</td>\n",
              "      <td>2.870549</td>\n",
              "      <td>3.000000</td>\n",
              "      <td>6332.500000</td>\n",
              "    </tr>\n",
              "    <tr>\n",
              "      <th>50%</th>\n",
              "      <td>597.288500</td>\n",
              "      <td>0.000000</td>\n",
              "      <td>4.022915</td>\n",
              "      <td>8.000000</td>\n",
              "      <td>8671.500000</td>\n",
              "    </tr>\n",
              "    <tr>\n",
              "      <th>75%</th>\n",
              "      <td>801.790246</td>\n",
              "      <td>0.000000</td>\n",
              "      <td>5.361234</td>\n",
              "      <td>16.000000</td>\n",
              "      <td>11364.703687</td>\n",
              "    </tr>\n",
              "    <tr>\n",
              "      <th>max</th>\n",
              "      <td>3657.904000</td>\n",
              "      <td>0.276000</td>\n",
              "      <td>42.049577</td>\n",
              "      <td>374.890283</td>\n",
              "      <td>54241.633370</td>\n",
              "    </tr>\n",
              "  </tbody>\n",
              "</table>\n",
              "</div>"
            ],
            "text/plain": [
              "       Active Calories (kcal)  ...  Steps (count)\n",
              "count             1044.000000  ...    1044.000000\n",
              "mean               625.793585  ...    9419.886702\n",
              "std                448.262053  ...    4893.374264\n",
              "min                  0.000000  ...     821.570604\n",
              "25%                383.523286  ...    6332.500000\n",
              "50%                597.288500  ...    8671.500000\n",
              "75%                801.790246  ...   11364.703687\n",
              "max               3657.904000  ...   54241.633370\n",
              "\n",
              "[8 rows x 5 columns]"
            ]
          },
          "metadata": {},
          "execution_count": 35
        }
      ]
    },
    {
      "cell_type": "code",
      "metadata": {
        "colab": {
          "base_uri": "https://localhost:8080/"
        },
        "id": "kNrojVzBXVNb",
        "outputId": "74b8daf8-7d4c-4d0f-c712-c9ad979e22f6"
      },
      "source": [
        "df[\"Steps (count)\"]"
      ],
      "execution_count": null,
      "outputs": [
        {
          "output_type": "execute_result",
          "data": {
            "text/plain": [
              "0        3229.292576\n",
              "1       14210.188870\n",
              "2       19156.967010\n",
              "3       13640.566870\n",
              "4       10915.410300\n",
              "            ...     \n",
              "1039     8564.777872\n",
              "1040     9963.000000\n",
              "1041    11791.000000\n",
              "1042     3281.849503\n",
              "1043     8893.000000\n",
              "Name: Steps (count), Length: 1044, dtype: float64"
            ]
          },
          "metadata": {},
          "execution_count": 36
        }
      ]
    },
    {
      "cell_type": "code",
      "metadata": {
        "id": "msXHKkrHXcev"
      },
      "source": [
        "df[\"Steps (count)\"]"
      ],
      "execution_count": null,
      "outputs": []
    },
    {
      "cell_type": "code",
      "metadata": {
        "colab": {
          "base_uri": "https://localhost:8080/",
          "height": 142
        },
        "id": "Wq62ppaFXoIw",
        "outputId": "1379fde0-ce25-4ab2-8443-00f84435cd97"
      },
      "source": [
        "#Boolean mask to filter the table to show days with more than 20 miles in distance \n",
        "df[(df[\"Distance (mi)\"] < 20) & (df[\"Distance (mi)\"] > 15)]"
      ],
      "execution_count": null,
      "outputs": [
        {
          "output_type": "execute_result",
          "data": {
            "text/html": [
              "<div>\n",
              "<style scoped>\n",
              "    .dataframe tbody tr th:only-of-type {\n",
              "        vertical-align: middle;\n",
              "    }\n",
              "\n",
              "    .dataframe tbody tr th {\n",
              "        vertical-align: top;\n",
              "    }\n",
              "\n",
              "    .dataframe thead th {\n",
              "        text-align: right;\n",
              "    }\n",
              "</style>\n",
              "<table border=\"1\" class=\"dataframe\">\n",
              "  <thead>\n",
              "    <tr style=\"text-align: right;\">\n",
              "      <th></th>\n",
              "      <th>Start</th>\n",
              "      <th>Finish</th>\n",
              "      <th>Active Calories (kcal)</th>\n",
              "      <th>Body Fat Percentage (%)</th>\n",
              "      <th>Distance (mi)</th>\n",
              "      <th>Flights Climbed (count)</th>\n",
              "      <th>Steps (count)</th>\n",
              "    </tr>\n",
              "  </thead>\n",
              "  <tbody>\n",
              "    <tr>\n",
              "      <th>680</th>\n",
              "      <td>8/8/2020 0:00</td>\n",
              "      <td>8/9/2020 0:00</td>\n",
              "      <td>3099.939109</td>\n",
              "      <td>0.0</td>\n",
              "      <td>17.594452</td>\n",
              "      <td>347.0</td>\n",
              "      <td>42602.65770</td>\n",
              "    </tr>\n",
              "    <tr>\n",
              "      <th>1023</th>\n",
              "      <td>7/17/2021 0:00</td>\n",
              "      <td>7/18/2021 0:00</td>\n",
              "      <td>2848.856000</td>\n",
              "      <td>0.0</td>\n",
              "      <td>17.563934</td>\n",
              "      <td>337.0</td>\n",
              "      <td>39035.95305</td>\n",
              "    </tr>\n",
              "    <tr>\n",
              "      <th>1037</th>\n",
              "      <td>7/31/2021 0:00</td>\n",
              "      <td>8/1/2021 0:00</td>\n",
              "      <td>3657.904000</td>\n",
              "      <td>0.0</td>\n",
              "      <td>16.340063</td>\n",
              "      <td>330.0</td>\n",
              "      <td>42038.48485</td>\n",
              "    </tr>\n",
              "  </tbody>\n",
              "</table>\n",
              "</div>"
            ],
            "text/plain": [
              "               Start          Finish  ...  Flights Climbed (count)  Steps (count)\n",
              "680    8/8/2020 0:00   8/9/2020 0:00  ...                    347.0    42602.65770\n",
              "1023  7/17/2021 0:00  7/18/2021 0:00  ...                    337.0    39035.95305\n",
              "1037  7/31/2021 0:00   8/1/2021 0:00  ...                    330.0    42038.48485\n",
              "\n",
              "[3 rows x 7 columns]"
            ]
          },
          "metadata": {},
          "execution_count": 40
        }
      ]
    },
    {
      "cell_type": "code",
      "metadata": {
        "id": "cJoIPz2Kb1jt"
      },
      "source": [
        "# importing ,atplotlib to visualize the health data set\n",
        "import matplotlib.pyplot as plt"
      ],
      "execution_count": null,
      "outputs": []
    },
    {
      "cell_type": "code",
      "metadata": {
        "colab": {
          "base_uri": "https://localhost:8080/",
          "height": 282
        },
        "id": "bJMmG87Zcyvs",
        "outputId": "624db324-ef3a-4e8f-96ea-818a467d88b6"
      },
      "source": [
        "plt.plot(df[\"Start\"], df[\"Active Calories (kcal)\"])"
      ],
      "execution_count": null,
      "outputs": [
        {
          "output_type": "execute_result",
          "data": {
            "text/plain": [
              "[<matplotlib.lines.Line2D at 0x7fe2b07dd4d0>]"
            ]
          },
          "metadata": {},
          "execution_count": 43
        },
        {
          "output_type": "display_data",
          "data": {
            "image/png": "[encoded data removed]",
            "text/plain": [
              "<Figure size 432x288 with 1 Axes>"
            ]
          },
          "metadata": {
            "needs_background": "light"
          }
        }
      ]
    }
  ]
}